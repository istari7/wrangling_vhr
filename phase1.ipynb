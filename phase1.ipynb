{
 "cells": [
  {
   "cell_type": "code",
   "execution_count": 42,
   "metadata": {},
   "outputs": [],
   "source": [
    "import pandas as pd\n",
    "import numpy as np\n",
    "import re \n"
   ]
  },
  {
   "cell_type": "code",
   "execution_count": 43,
   "metadata": {},
   "outputs": [],
   "source": [
    "# regular expression for validating an Email \n",
    "#Logic Copy Pasta from here for the email regex expression. It was the best working one that worked across 90k plus emails\n",
    "#https://emailregex.com/\n",
    "regex = r\"(^[a-zA-Z0-9_.+-]+@[a-zA-Z0-9-]+\\.[a-zA-Z0-9-.]+$)\""
   ]
  },
  {
   "cell_type": "markdown",
   "metadata": {},
   "source": [
    "  \n",
    "\n",
    "\n",
    "# We will be checking the row length after each operation for better clarity regarding the number of ops performed\n",
    "\n",
    "## After importing the data file the Order of Operations are\n",
    "\n",
    "\n",
    "1. Dropping all Empty Fields\n",
    "2. Dropping all Fields with Multiple Empty Characters\n",
    "3. Changing all to lowercase\n",
    "4. Splitting and extracting multiple emails from the fields\n",
    "5. Ensuring emails are unique in each field\n",
    "6. Creating new rows for multi emails\n",
    "7. Dropping all duplicates\n",
    "8. Email Validation. If valid- > leave as it is. If not. Drop the row\n",
    "\n",
    "\n",
    "\n",
    "\n"
   ]
  },
  {
   "cell_type": "code",
   "execution_count": 44,
   "metadata": {},
   "outputs": [
    {
     "name": "stdout",
     "output_type": "stream",
     "text": [
      "Row length --> 96965\n"
     ]
    }
   ],
   "source": [
    "raw_data = pd.read_excel(\"lever.xlsx\")\n",
    "df = pd.DataFrame(raw_data)\n",
    "row_length, _ = df.shape\n",
    "print(\"Row length -->\",row_length)"
   ]
  },
  {
   "cell_type": "markdown",
   "metadata": {},
   "source": [
    "### Dropping all the Empty Fields below and also the ones with multiple empty characters"
   ]
  },
  {
   "cell_type": "code",
   "execution_count": 45,
   "metadata": {},
   "outputs": [
    {
     "name": "stdout",
     "output_type": "stream",
     "text": [
      "Row length --> 95728\n"
     ]
    }
   ],
   "source": [
    "#Checking for empty and throwing away value\n",
    "#Here NaN represents empty or you can say null\n",
    "df.dropna(subset=['Email'],inplace=True)\n",
    "#ALso check for empty strings after this. Just in case\n",
    "#Below is code for regex check for longer empty string like '     '\n",
    "df.replace(r'^\\s*$', np.nan, regex=True)\n",
    "df.dropna(subset=[\"Email\"],inplace=True)\n",
    "row_length, _ = df.shape\n",
    "print(\"Row length -->\",row_length)"
   ]
  },
  {
   "cell_type": "markdown",
   "metadata": {},
   "source": [
    "### Change all to lowercase"
   ]
  },
  {
   "cell_type": "code",
   "execution_count": 46,
   "metadata": {},
   "outputs": [],
   "source": [
    "df['Email'] = df['Email'].str.lower()"
   ]
  },
  {
   "cell_type": "markdown",
   "metadata": {},
   "source": [
    "## Few helper functions that come in handy later on for data transformations"
   ]
  },
  {
   "cell_type": "code",
   "execution_count": 47,
   "metadata": {},
   "outputs": [],
   "source": [
    "#Creating a few helper functions for repeated use\n",
    "#Trims and splits based on spaces\n",
    "def despacer_decomma(x):\n",
    "    x = x.strip()\n",
    "    x = x.split(\",\")\n",
    "    x = \" \".join(x)\n",
    "    x = x.split(\" \")\n",
    "    return x\n",
    "'''\n",
    "For removing false positives and weird chars in btwn valid emails, if the user uses some weird kind of characters for separating his email like ;; or -x- or ---- \n",
    "The smallest email can be of the size 6 characters. Using that heuristic we use the below logic to clear all the false positives\n",
    "'''\n",
    "def remover(x):\n",
    "    if len(x) < 6:\n",
    "        return None\n",
    "    else:\n",
    "        return x\n",
    "\n",
    "def size_based_email_cleaner(l):\n",
    "    l = list(map(remover,l))\n",
    "    l = list(filter(None,l))\n",
    "    return l\n",
    "\n",
    "# Define a function for \n",
    "# for validating an Email \n",
    "def check(email):  \n",
    "    # pass the regular expression \n",
    "    # and the string in search() method \n",
    "    if(re.search(regex,email)):  \n",
    "        return True\n",
    "          \n",
    "    else:  \n",
    "        return False "
   ]
  },
  {
   "cell_type": "markdown",
   "metadata": {},
   "source": [
    "### Email Splitting and Cleaning with the same field. Also remove case insensitive duplicates here"
   ]
  },
  {
   "cell_type": "code",
   "execution_count": 48,
   "metadata": {},
   "outputs": [],
   "source": [
    "for i in df.index:\n",
    "    val = df.at[i, \"Email\"]\n",
    "    val1 = despacer_decomma(val)\n",
    "    val2 = list(set(size_based_email_cleaner(val1)))\n",
    "    df.at[i, \"Email\"] = val2"
   ]
  },
  {
   "cell_type": "markdown",
   "metadata": {},
   "source": [
    "### Taking those multiple emails and creating multiple entries from them"
   ]
  },
  {
   "cell_type": "code",
   "execution_count": 50,
   "metadata": {},
   "outputs": [
    {
     "name": "stdout",
     "output_type": "stream",
     "text": [
      "Row length --> 103062\n"
     ]
    }
   ],
   "source": [
    "for i in df.index:\n",
    "    val = df.at[i, \"Email\"]\n",
    "    if len(val)>1:\n",
    "        core = val[0]\n",
    "        if type(val) is type(\" \"):\n",
    "            continue\n",
    "        while len(val) > 1:\n",
    "            temp_val = val.pop()\n",
    "            new_df = df.loc[i, :]\n",
    "            new_df.at[\"Email\"] = str(temp_val)\n",
    "            df = df.append(new_df,ignore_index=True)\n",
    "    #Uncomment below row to see each email that is appended and new row that is created\n",
    "   #         print(\"New Row Duplicated with Following Email :-\",new_df[\"Email\"])\n",
    "        df.at[i,\"Email\"] = core\n",
    "#Converting the list datatype in the col to a string one\n",
    "for i in df.index:\n",
    "    df.at[i, \"Email\"] = \"\".join(df.at[i, \"Email\"])\n",
    "row_length, _ = df.shape\n",
    "print(\"Row length -->\",row_length)"
   ]
  },
  {
   "cell_type": "markdown",
   "metadata": {},
   "source": [
    "### Dropping all the duplicate values from the entire sheets with Email as Primary Key"
   ]
  },
  {
   "cell_type": "code",
   "execution_count": 51,
   "metadata": {},
   "outputs": [
    {
     "name": "stdout",
     "output_type": "stream",
     "text": [
      "Row length --> 94939\n"
     ]
    }
   ],
   "source": [
    "df = df.drop_duplicates(subset = [\"Email\"])\n",
    "row_length, _ = df.shape\n",
    "print(\"Row length -->\",row_length)"
   ]
  },
  {
   "cell_type": "markdown",
   "metadata": {},
   "source": [
    "### Dropping all the cells where the email is invalid"
   ]
  },
  {
   "cell_type": "code",
   "execution_count": 52,
   "metadata": {},
   "outputs": [
    {
     "name": "stdout",
     "output_type": "stream",
     "text": [
      "This email is invalid 413-301-6544/jjzipagan@gmail.com\n",
      "This email is invalid maggiedrc@comcast\n",
      "This email is invalid olgawiley@kk\n",
      "This email is invalid krvssiewoods@gmailcom\n",
      "This email is invalid 978-609-6964|htruong@vcom.vt.edu\n",
      "This email is invalid pillai22@redifcom\n",
      "This email is invalid mesyoung@gmail\n",
      "This email is invalid aabreu@clinicasmidoctor\n",
      "This email is invalid caphr@earthlink\n",
      "This email is invalid ?faizakemc@gmail.com\n",
      "This email is invalid ?gruscinska@yahoo.com\n",
      "This email is invalid ?docdeepa_rani128@yahoo.com\n",
      "This email is invalid ?ilovedoctors@msn.com\n",
      "This email is invalid ?bkoperski@llu.edu\n",
      "This email is invalid ?vipmody@yahoo.com\n",
      "This email is invalid ?soymerca@yahoo.com\n",
      "This email is invalid ?jshostetter@gmail.com\n",
      "This email is invalid ?mohsinhaseeb@hotmail.com\n",
      "This email is invalid ?jwatson@mmc.edu\n",
      "This email is invalid ?naureenzafarmd@gmail.com\n",
      "This email is invalid ?monica.agarwal@umassmemorial.org\n",
      "This email is invalid ?milindawalemd@gmail.com\n",
      "This email is invalid ?mlivny@gmail.com\n",
      "This email is invalid ?drariar@gmail.com\n",
      "This email is invalid ?ajmpanezai@gmail.com\n",
      "This email is invalid ?michael.sayess@umassmemorial.org\n",
      "This email is invalid ?priyaa27@gmail.com\n",
      "This email is invalid ?drsunnyjain@gmail.com\n",
      "This email is invalid jodie@premiereonboard\n",
      "This email is invalid 207-3217/santabt80@gmail.com\n",
      "This email is invalid ?docfae@yahoo.com\n",
      "This email is invalid {mmaj45@yahoo.com\n",
      "This email is invalid peter.d'orazio@ihs.gov\n",
      "This email is invalid ?f.rea33@aol.com\n",
      "This email is invalid ?luizgfsamu@hotmail.com\n",
      "This email is invalid ?laurenstrick@yahoo.com\n",
      "This email is invalid albarriermd@gmail\n",
      "This email is invalid michaelisteiner@gmail\n",
      "This email is invalid 314.724.5755%cell%|%ryanmatthews27@gmail.com\n",
      "This email is invalid oprevelo@gmail\n",
      "This email is invalid abachiller10@gmailcom\n",
      "This email is invalid 13031|516-458-4423|daviesm@upstate.edu\n",
      "This email is invalid petergriffin1998@com\n",
      "This email is invalid |donaldsheldon12@gmail.com\n",
      "This email is invalid 08033!484-883-6403!tccampbell71@gmail.com\n",
      "This email is invalid *kkleis72@gmail.com\n",
      "This email is invalid rom@perez\n",
      "This email is invalid katherine/lincoln@guthrie.org\n",
      "This email is invalid susancollins266@gmail\n",
      "This email is invalid narayan@email\n",
      "This email is invalid nshepard@2\n",
      "This email is invalid oscarandrade134@gmail\n",
      "This email is invalid sherritavares1963@gmail\n",
      "This email is invalid rlskins@icloudcom\n",
      "This email is invalid carolyncarney196741@gmail\n",
      "This email is invalid aftabsheikh@522\n",
      "This email is invalid leticia@117\n",
      "This email is invalid paulatho246@gmail\n",
      "This email is invalid champangerose@gmail\n",
      "This email is invalid email~lvhrn@yahoo.com\n",
      "This email is invalid |409-658-1153|jfernon51@gmail.com\n",
      "This email is invalid 272-7037|brittney318@outlook.com\n",
      "This email is invalid 802-6515*gkathie59@yahoo.com\n",
      "This email is invalid |lekeishal36@gmail.com\n",
      "This email is invalid zoephillips72@iclould\n",
      "This email is invalid phiwobasag@email\n",
      "This email is invalid thomasn651@stidents\n",
      "This email is invalid abubakargonibukar@gmail121\n",
      "This email is invalid stardance655@yahoo\n",
      "This email is invalid salaadoseeko@gmail\n",
      "This email is invalid amirpreston57@gmail\n",
      "This email is invalid thhhougou@fgfuuf9\n",
      "This email is invalid shawncallahan208@gmail\n",
      "This email is invalid salisushaibu2019@com\n",
      "This email is invalid haseebullah.hotaki@csdesgles\n",
      "This email is invalid orvinportiow@273\n",
      "This email is invalid arpapomuerte@com\n",
      "This email is invalid he73ft@ueuet23\n",
      "This email is invalid www@loco87\n",
      "This email is invalid jashanti@12346785\n",
      "This email is invalid tylentom$@gmail.com\n",
      "This email is invalid garyrinear33@gmail\n",
      "This email is invalid dconlin@g\n",
      "This email is invalid ary@131\n",
      "This email is invalid 215877@24\n",
      "This email is invalid fabilinjy@homail\n",
      "This email is invalid egonzalez0720@mai\n",
      "This email is invalid \n",
      "This email is invalid hernandezcm2014@gmal\n",
      "This email is invalid jhffxhgcgj@ghgfvjjn\n",
      "This email is invalid shyamharib780@gmail\n",
      "This email is invalid juwi46@gmail\n",
      "This email is invalid khalynasberry@emalie\n",
      "This email is invalid adamaria@gmailcom\n",
      "This email is invalid mail@genny\n",
      "This email is invalid wilso@njkobe\n",
      "This email is invalid fgsmc@fjdns\n",
      "This email is invalid frrgeef@com\n",
      "This email is invalid jayden@mansd\n",
      "This email is invalid richardlokole@gmall\n",
      "This email is invalid kipkoechgideon932@gmail\n",
      "This email is invalid jef@froy\n",
      "This email is invalid 442204@mily\n",
      "This email is invalid 52an@deyroldprinb\n",
      "This email is invalid 913770036@pucallpa\n",
      "This email is invalid lady4u63@gmail\n",
      "This email is invalid jaquavias@wiley\n",
      "This email is invalid anmedoza7771@gamail\n",
      "This email is invalid miyca@jones\n",
      "This email is invalid poppyholmon@yahoo1988\n",
      "This email is invalid fajardo-@cecena\n",
      "This email is invalid google.com@xander\n",
      "This email is invalid gb@gmail\n",
      "This email is invalid 27@westphalm\n",
      "This email is invalid psheffield@113123\n",
      "This email is invalid tioi@ghgshfc\n",
      "This email is invalid |colettekmark@gmail.com\n",
      "This email is invalid isiddiqui16@gmail\n",
      "This email is invalid mahendradandde@wwwcom\n",
      "This email is invalid maerikasanchez@gmail\n",
      "This email is invalid aachange@gmail\n",
      "This email is invalid 509sunnyside@email\n",
      "This email is invalid johnharry@enail\n",
      "This email is invalid *bazalehsandr@hotmail.com\n",
      "This email is invalid amandasolis3917@gmail\n",
      "This email is invalid soniabecerra@com\n",
      "This email is invalid sadekdeddouche60@gmail\n",
      "This email is invalid wcmust2@email\n",
      "This email is invalid 516-343-5948*deborahastein@gmail.com\n",
      "This email is invalid ?khudr@att.net\n",
      "This email is invalid ?scrane@wakehealth.edu\n",
      "This email is invalid ?aaronmiranda11@gmail.com\n",
      "This email is invalid ?eliastzele@yahoo.com\n",
      "This email is invalid ?rakhshandaakram@gmail.com\n",
      "This email is invalid ?jungsikyoo@gmail.com\n",
      "This email is invalid ?bgebhardt@svhs.org\n",
      "This email is invalid ?gadoeh.md@gmail.com\n",
      "This email is invalid ?dansavianomd@aol.com\n",
      "This email is invalid ?zetannie@massmed.org\n",
      "This email is invalid ?razan_asaadmd@yahoo.com\n",
      "This email is invalid ?iwafik@hotmail.com\n",
      "This email is invalid ?wallf80@yahoo.com\n",
      "This email is invalid ?dmuleta1@gmail.com\n",
      "This email is invalid ?melgerrior@yahoo.ca\n",
      "This email is invalid ?urastogi@saintpetersuh.com\n",
      "This email is invalid |jennifer.guevara27@gmail.com\n",
      "This email is invalid 754-205-7035/khandeemcneil@outlook.com\n",
      "This email is invalid 646-715-4014|yomi.obafemi@gmail.com\n",
      "This email is invalid ?emjoybear@yahoo.com\n",
      "This email is invalid 325-665-5885/fwoitalla@gmail.com\n",
      "This email is invalid ?alaser@smail.umaryland.edu\n",
      "This email is invalid ?john.theodoropoulos@gmx.de\n",
      "This email is invalid ?gddmd@aol.com\n",
      "This email is invalid 732-776-4594/djohnsonmiller@meridianhealth.com\n",
      "This email is invalid nfaragmd@gmail\n",
      "This email is invalid $5005.$avegacasas@gmail.com\n",
      "This email is invalid ?doctordalton.com@gmail.com\n",
      "This email is invalid 381-7647/cmmmd2870@yahoo.com\n",
      "This email is invalid %ryanmatthews27@gmail.com\n",
      "This email is invalid |felipeorellana.do@gmail.com\n",
      "This email is invalid *margueriteyoung@comcast.net\n",
      "This email is invalid 851-0407/adw8605@gmail.com\n",
      "This email is invalid |jamalawr@gmail.com\n",
      "This email is invalid 227-7062|allisontompeck@gmail.com\n",
      "This email is invalid csunmd@aol\n",
      "This email is invalid jejemdz@gmail\n",
      "This email is invalid 5596|carlajs1970@gmail.com\n",
      "This email is invalid |mmiot10@gmail.com\n",
      "This email is invalid sinceregoodwin1000@mailroom\n",
      "This email is invalid |fatima.ahmed.do@gmail.org\n",
      "This email is invalid 6499/pppatel2@bidmc.harvard.edu\n",
      "This email is invalid *prashant.gupta528@gmail.com\n",
      "This email is invalid |alaa.a.alibrahim@gmail.com\n",
      "This email is invalid n15372@hotmailcom\n",
      "This email is invalid mobrienmd@gmail\n",
      "This email is invalid 28786/annastratton64@hotmail.com\n",
      "This email is invalid artueosalto16@gmailzcom\n",
      "Cleaning Completed\n",
      "Row length --> 94762\n"
     ]
    }
   ],
   "source": [
    "for i in df.index:\n",
    "    val = df.at[i, \"Email\"]\n",
    "    if check(val):\n",
    "        continue\n",
    "    else:\n",
    "        print(\"This email is invalid\",val)\n",
    "        df.at[i, \"Email\"] = np.nan\n",
    "print(\"Cleaning Completed\")\n",
    "df.dropna(subset=['Email'],inplace=True)\n",
    "row_length, _ = df.shape\n",
    "print(\"Row length -->\",row_length)"
   ]
  },
  {
   "cell_type": "markdown",
   "metadata": {},
   "source": [
    "### Saving the file to the memory"
   ]
  },
  {
   "cell_type": "code",
   "execution_count": 53,
   "metadata": {},
   "outputs": [],
   "source": [
    "df.to_excel(\"vohra_phase1.xlsx\",index=False)"
   ]
  },
  {
   "cell_type": "markdown",
   "metadata": {},
   "source": [
    "#### Disclaimer :- For running this out of the box :- delete all column headers before calling the file, and paste back after wrangling. There is some weird bug that corrupts the dataframe in pandas"
   ]
  },
  {
   "cell_type": "code",
   "execution_count": null,
   "metadata": {},
   "outputs": [],
   "source": []
  }
 ],
 "metadata": {
  "kernelspec": {
   "display_name": "Python 3",
   "language": "python",
   "name": "python3"
  },
  "language_info": {
   "codemirror_mode": {
    "name": "ipython",
    "version": 3
   },
   "file_extension": ".py",
   "mimetype": "text/x-python",
   "name": "python",
   "nbconvert_exporter": "python",
   "pygments_lexer": "ipython3",
   "version": "3.8.3"
  }
 },
 "nbformat": 4,
 "nbformat_minor": 4
}
